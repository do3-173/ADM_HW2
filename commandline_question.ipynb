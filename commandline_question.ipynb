{
 "cells": [
  {
   "cell_type": "markdown",
   "metadata": {},
   "source": [
    "# **Algorithmic Methods of Data Mining - Winter Semester 2023**\n",
    "\n",
    "## **Command Line Question (CLQ)**\n",
    "Using the command line is a feature that Data Scientists must master. It is relevant since the operations there require less memory to use in comparison to other interfaces. It also uses less CPU processing time than other interfaces. In addition, it can be faster and more efficient and handle repetitive tasks quickly.\n",
    "\n",
    "__Note:__ To answer the question in this section, you must strictly use command line tools. We will reject any other method of response. \n",
    "\n",
    "Looking through the files, you can find [series.json](https://www.kaggle.com/datasets/opalskies/large-books-metadata-dataset-50-mill-entries), which contains a list of book series. In each series's <ins>'works'</ins> field, you'll find a list of books that are part of that series. Report the title of the __top 5__ series with the <ins>highest total 'books_count'</ins> among all of their associated books using command line tools. \n",
    "\n",
    "1. Write a script to provide this report. Put your script in a shell script file with the appropriate extension, then run it from the command line. The file should be called commandline_original.[put_the_proper extension]\n",
    "2. Try interacting with ChatGPT or any other LLM chatbot tool to implement a <ins>more robust</ins> script implementation. Your final script should be __at most three lines__. Put your script in a shell script file with the appropriate extension, then run it from the command line. The file should be called commandline_LLM.[put_the_proper_ extension]. Add in your homework how you employed the LLM chatbot tools, validate if it is correct, and explain how you check its correctness.\n",
    "   \n",
    "The expected result is as follows: \n",
    "\n",
    "|id|title|total_books_count|\n",
    "|---|---|---|\n",
    "|302380|Extraordinary Voyages|20138|\n",
    "|94209|Alice's Adventures in Wonderland|14280|\n",
    "|311348|Kolekcja Arcydzieł Literatury Światowe|13774|\n",
    "|41459|Oz|11519|\n",
    "|51138|Hercule Poirot|11305|\n",
    "\n"
   ]
  },
  {
   "cell_type": "code",
   "execution_count": 2,
   "metadata": {
    "vscode": {
     "languageId": "shellscript"
    }
   },
   "outputs": [
    {
     "ename": "SyntaxError",
     "evalue": "invalid syntax (2987712293.py, line 1)",
     "output_type": "error",
     "traceback": [
      "\u001b[0;36m  Cell \u001b[0;32mIn[2], line 1\u001b[0;36m\u001b[0m\n\u001b[0;31m    jq '{id: .id|tonumber, title: .title, total_books_count: [.works[].books_count|tonumber]|add}' \"dataset/series.json\" >> books_count.json\u001b[0m\n\u001b[0m       ^\u001b[0m\n\u001b[0;31mSyntaxError\u001b[0m\u001b[0;31m:\u001b[0m invalid syntax\n"
     ]
    }
   ],
   "source": [
    "#!/bin/bash\n",
    "\n",
    "jq '{id: .id|tonumber, title: .title, total_books_count: [.works[].books_count|tonumber]|add}' \"dataset/series.json\" >> books_count.json\n",
    "jq -s 'sort_by(.total_books_count)|reverse' books_count.json >> sorted.json \n",
    "echo \"id,title,total_books_count\"\n",
    "jq -r '.[:5] | .[] | \"\\(.id),\\(.title),\\(.total_books_count)\"' sorted.json\n",
    "rm sorted.json books_count.json"
   ]
  }
 ],
 "metadata": {
  "kernelspec": {
   "display_name": "base",
   "language": "python",
   "name": "python3"
  },
  "language_info": {
   "codemirror_mode": {
    "name": "ipython",
    "version": 3
   },
   "file_extension": ".py",
   "mimetype": "text/x-python",
   "name": "python",
   "nbconvert_exporter": "python",
   "pygments_lexer": "ipython3",
   "version": "3.11.5"
  }
 },
 "nbformat": 4,
 "nbformat_minor": 2
}
