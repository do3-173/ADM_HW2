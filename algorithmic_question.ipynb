{
 "cells": [
  {
   "cell_type": "markdown",
   "metadata": {},
   "source": [
    "# **Algorithmic Methods of Data Mining - Winter Semester 2023**\n",
    "\n",
    "## **Algorithmic Question (AQ)**\n",
    "Assume you are working as a librarian at a public library in Rome. Some new books have arrived, and you are in charge of putting them on a shelf. Your supervisor will give you some instructions, and you will follow his. Each book has a unique ID, and your boss's instructions can be of the following types: \n",
    "\n",
    "- **L N** - place the book with ID = N on the shelf to the left of the leftmost existing book\n",
    "- **R N** - place the book with ID = N on the shelf to the right of the rightmost existing book\n",
    "- **? N** - Calculate the minimum number of books you must pop from the left or right to have the book with ID = N as the leftmost or rightmost book on the shelf.\n",
    "  \n",
    "You must follow your boss's instructions and report the answers to type 3 instructions to him. He guarantees that if he has a type 3 instruction for a book with a specific ID, the book has already been placed on the shelf. \n",
    "\n",
    "Remember that once you've answered a type 3 instruction, the order of the books <ins>does not change</ins>. \n",
    "\n",
    "**Input:**\n",
    "\n",
    "The first line contains a single number, n, representing the number of your boss's instructions. The ith instruction the boss gives can be found at each of the following n lines. \n",
    "\n",
    "**Output:**\n",
    "\n",
    "Print your boss's type 3 instructions in the order they appear in the input. \n",
    "\n",
    "**Examples:**\n",
    "\n",
    "__Input 1__\n",
    "```\n",
    "L 75\n",
    "R 20\n",
    "R 30\n",
    "L 11\n",
    "? 75\n",
    "L 12\n",
    "L 15\n",
    "? 20\n",
    "```\n",
    "__Output 1__\n",
    "```\n",
    "1\n",
    "1\n",
    "```\n",
    "---\n",
    "__Input 2__\n",
    "```\n",
    "R 1\n",
    "L 2\n",
    "L 3\n",
    "L 4\n",
    "? 3\n",
    "R 5\n",
    "R 6\n",
    "L 7\n",
    "L 8\n",
    "? 4\n",
    "L 9\n",
    "R 10\n",
    "R 11\n",
    "L 12\n",
    "L 13\n",
    "? 11\n",
    "? 3\n",
    "```\n",
    "__Output 2:__\n",
    "```\n",
    "1\n",
    "2\n",
    "0\n",
    "6\n",
    "```\n",
    "\n",
    "1. Implement a code to answer the problem above. \n",
    "\n",
    "2. Ask ChatGPT or any other LLM chatbot tool to check your code's time complexity (the Big O notation). Do you believe this is correct? How can you double-check it? Elaborate about your answer.\n",
    "\n",
    "3. Is the algorithm proposed in (1.) the __optimal__ one to produce the required output? If not, can you suggest a <ins>better algorithm</ins> to perform the same task?\n",
    "   "
   ]
  },
  {
   "cell_type": "markdown",
   "metadata": {},
   "source": [
    "### **1. Implement a code to answer the problem above.** "
   ]
  },
  {
   "cell_type": "code",
   "execution_count": 2,
   "metadata": {},
   "outputs": [],
   "source": [
    "from collections import deque\n",
    "\n",
    "\n",
    "def library_calculation(instructions):\n",
    "    library = deque()\n",
    "\n",
    "    for instruction in instructions:\n",
    "        action, value = instruction.split()\n",
    "        value = int(value)\n",
    "\n",
    "        if action == \"R\":\n",
    "            library.append(value)\n",
    "\n",
    "        elif action == \"L\":\n",
    "            library.appendleft(value)\n",
    "\n",
    "        elif action == \"?\":\n",
    "            for i in range(len(library) // 2 + 1):\n",
    "                if library[i] == value or library[-i - 1] == value:\n",
    "                    print(i)\n",
    "                    break"
   ]
  },
  {
   "cell_type": "code",
   "execution_count": 3,
   "metadata": {},
   "outputs": [],
   "source": [
    "instructions_1 = [\"L 75\", \"R 20\", \"R 30\", \"L 11\", \"? 75\", \"L 12\", \"L 15\", \"? 20\"]"
   ]
  },
  {
   "cell_type": "code",
   "execution_count": 4,
   "metadata": {},
   "outputs": [],
   "source": [
    "instructions_2 = [\n",
    "    \"R 1\",\n",
    "    \"L 2\",\n",
    "    \"L 3\",\n",
    "    \"L 4\",\n",
    "    \"? 3\",\n",
    "    \"R 5\",\n",
    "    \"R 6\",\n",
    "    \"L 7\",\n",
    "    \"L 8\",\n",
    "    \"? 4\",\n",
    "    \"L 9\",\n",
    "    \"R 10\",\n",
    "    \"R 11\",\n",
    "    \"L 12\",\n",
    "    \"L 13\",\n",
    "    \"? 11\",\n",
    "    \"? 3\",\n",
    "]"
   ]
  },
  {
   "cell_type": "code",
   "execution_count": 5,
   "metadata": {},
   "outputs": [
    {
     "name": "stdout",
     "output_type": "stream",
     "text": [
      "1\n",
      "1\n"
     ]
    }
   ],
   "source": [
    "library_calculation(instructions_1)"
   ]
  },
  {
   "cell_type": "code",
   "execution_count": 6,
   "metadata": {},
   "outputs": [
    {
     "name": "stdout",
     "output_type": "stream",
     "text": [
      "1\n",
      "2\n",
      "0\n",
      "6\n"
     ]
    }
   ],
   "source": [
    "library_calculation(instructions_2)"
   ]
  },
  {
   "cell_type": "code",
   "execution_count": null,
   "metadata": {},
   "outputs": [],
   "source": [
    "# Input from console\n",
    "\n",
    "n = int(input())\n",
    "\n",
    "instructions = []\n",
    "\n",
    "for _ in range(n):\n",
    "    instructions.append(input())\n",
    "\n",
    "library_calculation(instructions)"
   ]
  },
  {
   "cell_type": "markdown",
   "metadata": {},
   "source": [
    "### **2. Ask ChatGPT or any other LLM chatbot tool to check your code's time complexity (the Big O notation). Do you believe this is correct? How can you double-check it? Elaborate about your answer.** "
   ]
  },
  {
   "cell_type": "markdown",
   "metadata": {},
   "source": [
    "**Answer:**\n",
    "This is the prompt for ChatGPT 3.5:\n",
    "\"check my code time complexity (Big-O notation): (code)\"\n",
    "\n",
    "Below is the answer to the prompt:\n"
   ]
  },
  {
   "cell_type": "markdown",
   "metadata": {},
   "source": [
    "ChatGPT 3.5\n",
    "\n",
    "\"Let's analyze the time complexity of your code:\n",
    "\n",
    "1. The code uses a deque (double-ended queue) from the collections module. Appending or appending left to a deque has an amortized time complexity of O(1).\n",
    "\n",
    "2. The code iterates through each instruction in the 'instructions' list, and for each instruction, it performs some operations.\n",
    "\n",
    "- If the instruction is 'R' or 'L', you perform a single append or appendleft operation, which is O(1).\n",
    "- If the instruction is '?', you have a for loop that iterates over approximately half of the elements in the 'library'. In the worst case, you check two elements for a match. This loop has a time complexity of O(N/2) = O(N), where N is the number of elements in the 'library'.\n",
    "\n",
    "So, the overall time complexity of your 'library_calculation' function can be approximated as follows:\n",
    "\n",
    "O(M) * (O(1) + O(1) + O(N)) = O(M + M*N)\n",
    "\n",
    "Where:\n",
    "- M is the number of instructions in the 'instructions' list.\n",
    "- N is the number of elements in the 'library'.\n",
    "\n",
    "The dominant term in the time complexity is O(M*N) because for each '?' instruction, you perform O(N) operations in the worst case. So, the time complexity of your code is O(M*N).\n",
    "\n",
    "Keep in mind that this analysis assumes worst-case scenarios and that the actual execution time may vary based on the specific input data and how often the '?' instructions are encountered.\""
   ]
  },
  {
   "cell_type": "markdown",
   "metadata": {},
   "source": [
    "Let's analyze the prompt to check if it is correct:\n",
    "\n",
    "1. Appending is the O(1) operation, with the deque it does not matter if it is from the left or right it still is O(1). This is correct\n",
    "2. Mainly we will analyze this calculation:\n",
    "O(M) * (O(1) + O(1) + O(N)) = O(M + M*N).\n",
    "If the M is the number of instructions, first O(1) is taking the element from iterations. Second one is append, which in deque is always O(1), which is confirmed above. O(N) is the complexity of running through the number of elements in the library and N is the number of elements in the library.\n",
    "\n",
    "So finally, complexity of O(MN) is correct, where if the most of the time we have '?' instruction, then time complexity is mostly O(N^2).  "
   ]
  },
  {
   "cell_type": "markdown",
   "metadata": {},
   "source": [
    "### **3. Is the algorithm proposed in (1.) the __optimal__ one to produce the required output? If not, can you suggest a <ins>better algorithm</ins> to perform the same task?**"
   ]
  },
  {
   "cell_type": "markdown",
   "metadata": {},
   "source": [
    "**Answer:**\n",
    "The algorithm detailed in (1.) is suboptimal, particularly due to its potential \\(O(N^2)\\) time complexity when the '?' instruction is frequent. The inefficiency lies in the search operation for the '?' instruction. As it iterates over the deque, the worst-case scenario can drive the time complexity up to quadratic.\n",
    "\n",
    "A more efficient strategy involves integrating both a deque and a dictionary:\n",
    "\n",
    "- **Deque**: Maintains the sequence of elements.\n",
    "- **Dictionary**: Holds each number as a key, with its corresponding index in the deque as the value. \n",
    "\n",
    "This hybrid approach allows for an \\(O(1)\\) time complexity during search operations. However, a potential \\(O(N^2)\\) time complexity may arise if the 'R' or 'L' instruction is predominant, depending on the instruction that is chosen to update positions if the shift is on the left or right.\n",
    "\n",
    "For demonstration, the algorithm is implemented below. It leverages both the deque and dictionary. Instruction 'L' is chosen where there's a need to update positions for all books due to the shift caused by appending on the left. The execution times for both the original algorithm and algorithm with dictionary have been benchmarked using the `time` library.\n"
   ]
  },
  {
   "cell_type": "code",
   "execution_count": 7,
   "metadata": {},
   "outputs": [],
   "source": [
    "def library_calculation_dict(instructions):\n",
    "    library = deque()\n",
    "    positions = {}\n",
    "\n",
    "    for instruction in instructions:\n",
    "        action, value = instruction.split()\n",
    "        value = int(value)\n",
    "\n",
    "        if action == \"R\":\n",
    "            library.append(value)\n",
    "            positions[value] = len(library) - 1\n",
    "\n",
    "        elif action == \"L\":\n",
    "            library.appendleft(value)\n",
    "\n",
    "            for book, pos in positions.items():\n",
    "                positions[book] = pos + 1\n",
    "            positions[value] = 0\n",
    "\n",
    "        elif action == \"?\":\n",
    "            pos = positions[value]\n",
    "            from_left = pos\n",
    "            from_right = len(library) - pos - 1\n",
    "            print(min(from_left, from_right))"
   ]
  },
  {
   "cell_type": "code",
   "execution_count": 9,
   "metadata": {},
   "outputs": [
    {
     "name": "stdout",
     "output_type": "stream",
     "text": [
      "Result without dictionary:\n",
      "1\n",
      "1\n",
      "\n",
      "Result with dictionary:\n",
      "1\n",
      "1\n",
      "\n",
      "Without dictionary execution time: 0.08 ms, with dictionary execution time: 0.07 ms\n"
     ]
    }
   ],
   "source": [
    "import time\n",
    "\n",
    "print(\"Result without dictionary:\")\n",
    "\n",
    "start_time_1 = time.time()\n",
    "library_calculation(instructions_1)\n",
    "end_time_1 = time.time()\n",
    "\n",
    "print(\"\\nResult with dictionary:\")\n",
    "\n",
    "start_time_2 = time.time()\n",
    "library_calculation_dict(instructions_1)\n",
    "end_time_2 = time.time()\n",
    "\n",
    "print(\n",
    "    f\"\\nWithout dictionary execution time: {((end_time_1-start_time_1) * 1000):.2f} ms, with dictionary execution time: {((end_time_2-start_time_2)* 1000):.2f} ms\"\n",
    ")"
   ]
  },
  {
   "cell_type": "code",
   "execution_count": 14,
   "metadata": {},
   "outputs": [
    {
     "name": "stdout",
     "output_type": "stream",
     "text": [
      "Result without dictionary:\n",
      "1\n",
      "2\n",
      "0\n",
      "6\n",
      "\n",
      "Result with dictionary:\n",
      "1\n",
      "2\n",
      "0\n",
      "6\n",
      "\n",
      "Without dictionary execution time: 0.09 ms, with dictionary execution time: 0.08 ms\n"
     ]
    }
   ],
   "source": [
    "print(\"Result without dictionary:\")\n",
    "\n",
    "start_time_1 = time.time()\n",
    "library_calculation(instructions_2)\n",
    "end_time_1 = time.time()\n",
    "\n",
    "print(\"\\nResult with dictionary:\")\n",
    "\n",
    "start_time_2 = time.time()\n",
    "library_calculation_dict(instructions_2)\n",
    "end_time_2 = time.time()\n",
    "\n",
    "print(\n",
    "    f\"\\nWithout dictionary execution time: {((end_time_1-start_time_1) * 1000):.2f} ms, with dictionary execution time: {((end_time_2-start_time_2)* 1000):.2f} ms\"\n",
    ")"
   ]
  },
  {
   "cell_type": "markdown",
   "metadata": {},
   "source": [
    "As we can see, using a dictionary is slightly faster than not using one. However, these results are based on test cases that are too small for real benchmarking results, so further testing is needed."
   ]
  }
 ],
 "metadata": {
  "kernelspec": {
   "display_name": "base",
   "language": "python",
   "name": "python3"
  },
  "language_info": {
   "codemirror_mode": {
    "name": "ipython",
    "version": 3
   },
   "file_extension": ".py",
   "mimetype": "text/x-python",
   "name": "python",
   "nbconvert_exporter": "python",
   "pygments_lexer": "ipython3",
   "version": "3.11.5"
  }
 },
 "nbformat": 4,
 "nbformat_minor": 2
}
