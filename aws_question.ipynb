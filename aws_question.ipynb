{
 "cells": [
  {
   "cell_type": "markdown",
   "metadata": {},
   "source": [
    "# **Algorithmic Methods of Data Mining - Winter Semester 2023**\n",
    "\n",
    "## **AWS Question (AWSQ)**\n",
    "AWS offers access to many cloud-based tools and services that simplify data processing, storage, and analysis. Thanks to AWS's scalable and affordable solutions, data scientists can work effectively with large datasets and carry out advanced analytics. A data scientist must, therefore, perform the essential task of learning how to use AWS. To complete a straightforward data analysis task in this question, you must set up an environment on Amazon Web Services. \n",
    "\n",
    "In this question, you are asked to provide the most commonly used tags for book lists. Going through the [__list.json__](https://www.kaggle.com/datasets/opalskies/large-books-metadata-dataset-50-mill-entries) file, you'll notice that each list has a list of tags attached, and we want to see what are the <ins>most popular tags</ins> across all of the lists. Please report the __top 5__ most frequently used tags and the number of times they appear in the lists.\n",
    "\n",
    "You have to follow the following (recommended) steps:  \n",
    "- Download the *list.json* file to your local system. \n",
    "- Write a Python script that generates the report and the system's time to generate it.\n",
    "- Set up an EC2 instance on your AWS account and upload the list.json file together with your script to the instance\n",
    "- Compare the running times of your script on your local system and the EC2 instances.\n",
    "\n",
    "__Important note__: Please run the __same script__ on both your local system and your EC2 instance to compare the results. e.g., keep the parameters the same if you are processing the data by loading it partially and aggregating the results. Comment about the differences you find.\n",
    "\n",
    "Please provide a report as follows: \n",
    "- The information about the config of the EC2 instance \n",
    "- The command used to connect to the EC2 \n",
    "- The commands used to upload the files and run the script on the EC2 instance through your local system \n",
    "- A table containing the most popular tags and their number of usage\n",
    "- A table containing the running time of the script on your local system and EC2 instance\n",
    "  \n",
    "The following is the expected outcome for the most popular tags:\n",
    "|tag|#usage|\n",
    "|---|---|\n",
    "|romance|6001|\n",
    "|fiction|5291|\n",
    "|young-adult|5016|\n",
    "|fantasy|3666|\n",
    "|science-fiction|2779|\n"
   ]
  },
  {
   "cell_type": "markdown",
   "metadata": {},
   "source": [
    "### **Downloading the dataset and writing Python script**"
   ]
  },
  {
   "cell_type": "code",
   "execution_count": 22,
   "metadata": {},
   "outputs": [
    {
     "name": "stdout",
     "output_type": "stream",
     "text": [
      "tag: #usage\n",
      "-----------\n",
      "romance: 6001\n",
      "fiction: 5291\n",
      "young-adult: 5016\n",
      "fantasy: 3666\n",
      "science-fiction: 2779\n",
      "\n",
      "Execution time: 12.88 seconds\n"
     ]
    }
   ],
   "source": [
    "import json\n",
    "from collections import Counter\n",
    "import time\n",
    "\n",
    "filepath = \"dataset/list.json\"\n",
    "n = 5\n",
    "\n",
    "start_time = time.time()\n",
    "\n",
    "tags_array = []\n",
    "\n",
    "with open(filepath, \"r\") as f:\n",
    "    for line in f:\n",
    "        tags = json.loads(line).get(\"tags\", [])\n",
    "        for tag in tags:\n",
    "            tags_array.append(tag)\n",
    "\n",
    "counter = Counter(tags_array)\n",
    "top_tags = counter.most_common(n)\n",
    "\n",
    "end_time = time.time()\n",
    "\n",
    "print(\"tag: #usage\")\n",
    "print(\"-----------\")\n",
    "for tag, number_of_times in top_tags:\n",
    "    print(f\"{tag}: {number_of_times}\")\n",
    "\n",
    "print(f\"\\nExecution time: {end_time - start_time:.2f} seconds\")"
   ]
  },
  {
   "cell_type": "markdown",
   "metadata": {},
   "source": [
    "### **Config of EC2**"
   ]
  },
  {
   "cell_type": "markdown",
   "metadata": {},
   "source": [
    "Steps of creating EC2 instance:\n",
    "- Login to the AWS Academy Learner Lab\n",
    "- Starting the Lab\n",
    "- Launching AWS Management Console and accessing the EC2 dashboard\n",
    "- Clicking on Launch Instance.\n",
    "- Naming the instance: hw2_awsq\n",
    "- Choosing a suitable Amazon Machine Image: Ubuntu 22.04\n",
    "- Selecting an instance type: t2.large\n",
    "- Adding key pair: using a old key pair from lab (mykeypair.pem)\n",
    "- Configuring storage: 30 GB of volume\n",
    "- Launching the instance\n",
    "- On EC2 dashboard clicking on the instance then on the top left corner we go Actions -> Security -> Modify IAM role\n",
    "\n",
    "\n",
    "- Choosing LabInstanceProfile then Update IAM Role\n",
    "\n"
   ]
  },
  {
   "cell_type": "markdown",
   "metadata": {},
   "source": [
    "### **Connecting to EC2 using SSH and uploading the files**"
   ]
  },
  {
   "cell_type": "markdown",
   "metadata": {},
   "source": [
    "To connect to EC2 instance SSH is used. OS of the local machine is Ubuntu 22.04:\n",
    "- Navigating through terminal to mykeypair.pem\n",
    "- Running the next command to connect to the ssh:\n",
    "    \n",
    "    ssh -i \"mykeypair.pem\" ubuntu@ec2-3-83-141-6.compute-1.amazonaws.com\n",
    "- After adding it to the list of the known hosts, we are introduced with the next text: \n",
    "    \n",
    "    ubuntu@ip-172-31-87-42:~$\n",
    "- Two commands are used to bring the OS with the newest updates and upgrades: \n",
    "    \n",
    "    sudo apt update\n",
    "\n",
    "    sudo apt upgrade\n",
    "- Afterwards command is used to install Command Line Interface - AWS CLI (this can be used for other Amazon services): \n",
    "\n",
    "    sudo apt install awscli\n",
    "- Shutdown is performed to apply certain settings with: \n",
    "    \n",
    "    sudo shutdown -h now\n",
    "- Launching the instance again through the console we get new command for connecting: \n",
    "\n",
    "    ssh -i \"mykeypair.pem\" ubuntu@ec2-54-146-140-217.compute-1.amazonaws.com\n",
    "- We get the output Python 3.10.12 using the command: \n",
    "\n",
    "    python3 --version \n",
    "- We also install pip by running: \n",
    "\n",
    "    sudo apt install pip\n",
    "- New directory dataset is created with: \n",
    "\n",
    "    mkdir dataset\n",
    "- Opening a new terminal on local machine we firstly navigate to the directory where is the script and then type next two commands to transfer files through ssh:\n",
    "\n",
    "    scp -i \"key/mykeypair.pem\" aws_script.py ubuntu@ec2-54-146-140-217.compute-1.amazonaws.com:/home/ubuntu\n",
    "    \n",
    "    scp -i \"key/mykeypair.pem\" \"dataset/list.json\" ubuntu@ec2-54-146-140-217.compute-1.amazonaws.com:/home/ubuntu/dataset\n",
    "\n",
    "- This can also be done using S3 service, by creating a bucket, uploading files there, and then accessing the content of the files with:\n",
    "\n",
    "    aws s3 ls s3://name-of-the-bucket"
   ]
  },
  {
   "cell_type": "markdown",
   "metadata": {},
   "source": [
    "### **Lauching instance EC2 through SSH**"
   ]
  },
  {
   "cell_type": "markdown",
   "metadata": {},
   "source": [
    "### **Running the script**\n"
   ]
  },
  {
   "cell_type": "markdown",
   "metadata": {},
   "source": [
    "After switching to the terminal with the remote machine, we run the next few lines that are showing the content of the directories and output of running the script:\n",
    "```\n",
    "ubuntu@ip-172-31-87-42:~$ ls\n",
    "aws_script.py  dataset\n",
    "ubuntu@ip-172-31-87-42:~$ cd dataset/\n",
    "ubuntu@ip-172-31-87-42:~/dataset$ ls\n",
    "list.json\n",
    "ubuntu@ip-172-31-87-42:~/dataset$ cd ..\n",
    "ubuntu@ip-172-31-87-42:~$ python3 aws_script.py \n",
    "tag: #usage\n",
    "-----------\n",
    "romance: 6001\n",
    "fiction: 5291\n",
    "young-adult: 5016\n",
    "fantasy: 3666\n",
    "science-fiction: 2779\n",
    "\n",
    "Execution time: 16.09 seconds\n",
    "```"
   ]
  },
  {
   "cell_type": "markdown",
   "metadata": {},
   "source": [
    "The next table is containing the most popular tags and their number of usage on both local machine and EC2:\n",
    "\n",
    "|tag (local)|#usage (local)|tag (EC2)|#usage (EC2)|\n",
    "|---|---|---|---|\n",
    "|romance|6001|romance|6001|\n",
    "|fiction|5291|fiction|5291|\n",
    "|young-adult|5016|young-adult|5016|\n",
    "|fantasy|3666|fantasy|3666|\n",
    "|science-fiction|2779|science-fiction|2779|"
   ]
  },
  {
   "cell_type": "markdown",
   "metadata": {},
   "source": [
    "The next table is containing the running time of the script on your local system and EC2 instance:\n",
    "\n",
    "|# of tries|Execution time local machine (s)|Execution time EC2 (s)|\n",
    "|---|---|---|\n",
    "|1|12.66|16.09|\n",
    "|2|12.82|16.01|\n",
    "|3|12.74|16.11|\n",
    "|4|12.92|16.17|\n",
    "|5|12.88|15.90|\n",
    "|Avg.Time|12.88|15.90|"
   ]
  },
  {
   "cell_type": "markdown",
   "metadata": {},
   "source": []
  }
 ],
 "metadata": {
  "kernelspec": {
   "display_name": "base",
   "language": "python",
   "name": "python3"
  },
  "language_info": {
   "codemirror_mode": {
    "name": "ipython",
    "version": 3
   },
   "file_extension": ".py",
   "mimetype": "text/x-python",
   "name": "python",
   "nbconvert_exporter": "python",
   "pygments_lexer": "ipython3",
   "version": "3.11.5"
  }
 },
 "nbformat": 4,
 "nbformat_minor": 2
}
