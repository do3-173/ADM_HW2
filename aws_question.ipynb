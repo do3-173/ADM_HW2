{
 "cells": [
  {
   "cell_type": "markdown",
   "metadata": {},
   "source": [
    "# **Algorithmic Methods of Data Mining - Winter Semester 2023**\n",
    "\n",
    "## **AWS Question (AWSQ)**\n",
    "AWS offers access to many cloud-based tools and services that simplify data processing, storage, and analysis. Thanks to AWS's scalable and affordable solutions, data scientists can work effectively with large datasets and carry out advanced analytics. A data scientist must, therefore, perform the essential task of learning how to use AWS. To complete a straightforward data analysis task in this question, you must set up an environment on Amazon Web Services. \n",
    "\n",
    "In this question, you are asked to provide the most commonly used tags for book lists. Going through the [__list.json__](https://www.kaggle.com/datasets/opalskies/large-books-metadata-dataset-50-mill-entries) file, you'll notice that each list has a list of tags attached, and we want to see what are the <ins>most popular tags</ins> across all of the lists. Please report the __top 5__ most frequently used tags and the number of times they appear in the lists.\n",
    "\n",
    "You have to follow the following (recommended) steps:  \n",
    "- Download the *list.json* file to your local system. \n",
    "- Write a Python script that generates the report and the system's time to generate it.\n",
    "- Set up an EC2 instance on your AWS account and upload the list.json file together with your script to the instance\n",
    "- Compare the running times of your script on your local system and the EC2 instances.\n",
    "\n",
    "__Important note__: Please run the __same script__ on both your local system and your EC2 instance to compare the results. e.g., keep the parameters the same if you are processing the data by loading it partially and aggregating the results. Comment about the differences you find.\n",
    "\n",
    "Please provide a report as follows: \n",
    "- The information about the config of the EC2 instance \n",
    "- The command used to connect to the EC2 \n",
    "- The commands used to upload the files and run the script on the EC2 instance through your local system \n",
    "- A table containing the most popular tags and their number of usage\n",
    "- A table containing the running time of the script on your local system and EC2 instance\n",
    "  \n",
    "The following is the expected outcome for the most popular tags:\n",
    "|tag|#usage|\n",
    "|---|---|\n",
    "|romance|6001|\n",
    "|fiction|5291|\n",
    "|young-adult|5016|\n",
    "|fantasy|3666|\n",
    "|science-fiction|2779|\n"
   ]
  }
 ],
 "metadata": {
  "language_info": {
   "name": "python"
  }
 },
 "nbformat": 4,
 "nbformat_minor": 2
}
